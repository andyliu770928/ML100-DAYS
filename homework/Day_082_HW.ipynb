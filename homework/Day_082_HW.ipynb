{
 "cells": [
  {
   "cell_type": "markdown",
   "metadata": {},
   "source": [
    "## Work\n",
    "1. 請比較使用不同層數以及不同 Dropout rate 對訓練的效果\n",
    "2. 將 optimizer 改成使用 Adam 並加上適當的 dropout rate 檢視結果"
   ]
  },
  {
   "cell_type": "code",
   "execution_count": 1,
   "metadata": {},
   "outputs": [
    {
     "name": "stderr",
     "output_type": "stream",
     "text": [
      "Using TensorFlow backend.\n"
     ]
    }
   ],
   "source": [
    "import os\n",
    "import keras\n",
    "import itertools\n",
    "# Disable GPU\n",
    "# os.environ[\"CUDA_VISIBLE_DEVICES\"] = \"\""
   ]
  },
  {
   "cell_type": "code",
   "execution_count": 2,
   "metadata": {},
   "outputs": [],
   "source": [
    "train, test = keras.datasets.cifar10.load_data()"
   ]
  },
  {
   "cell_type": "code",
   "execution_count": 3,
   "metadata": {},
   "outputs": [],
   "source": [
    "## 資料前處理\n",
    "def preproc_x(x, flatten=True):\n",
    "    x = x / 255.\n",
    "    if flatten:\n",
    "        x = x.reshape((len(x), -1))\n",
    "    return x\n",
    "\n",
    "def preproc_y(y, num_classes=10):\n",
    "    if y.shape[-1] == 1:\n",
    "        y = keras.utils.to_categorical(y, num_classes)\n",
    "    return y    "
   ]
  },
  {
   "cell_type": "code",
   "execution_count": 4,
   "metadata": {},
   "outputs": [],
   "source": [
    "x_train, y_train = train\n",
    "x_test, y_test = test\n",
    "\n",
    "# Preproc the inputs\n",
    "x_train = preproc_x(x_train)\n",
    "x_test = preproc_x(x_test)\n",
    "\n",
    "# Preprc the outputs\n",
    "y_train = preproc_y(y_train)\n",
    "y_test = preproc_y(y_test)"
   ]
  },
  {
   "cell_type": "code",
   "execution_count": 5,
   "metadata": {},
   "outputs": [],
   "source": [
    "from keras.layers import Dropout\n",
    "\n",
    "def build_mlp(input_shape, output_units=10, num_neurons=[512, 256, 128, 32], drop_ratio=0.3):\n",
    "    input_layer = keras.layers.Input(input_shape)\n",
    "    \n",
    "    for i, n_units in enumerate(num_neurons):\n",
    "        if i == 0:\n",
    "            x = keras.layers.Dense(units=n_units, \n",
    "                                   activation=\"relu\", \n",
    "                                   name=\"hidden_layer\"+str(i+1))(input_layer)\n",
    "            x = Dropout(drop_ratio)(x)\n",
    "        else:\n",
    "            x = keras.layers.Dense(units=n_units, \n",
    "                                   activation=\"relu\", \n",
    "                                   name=\"hidden_layer\"+str(i+1))(x)\n",
    "            x = Dropout(drop_ratio)(x)\n",
    "    \n",
    "    out = keras.layers.Dense(units=output_units, activation=\"softmax\", name=\"output\")(x)\n",
    "    \n",
    "    model = keras.models.Model(inputs=[input_layer], outputs=[out])\n",
    "    return model"
   ]
  },
  {
   "cell_type": "code",
   "execution_count": 6,
   "metadata": {},
   "outputs": [],
   "source": [
    "## 超參數設定\n",
    "LEARNING_RATE = 1e-3\n",
    "EPOCHS = 50\n",
    "BATCH_SIZE = 256\n",
    "MOMENTUM = 0.95\n",
    "Dropout_EXP = 0.3"
   ]
  },
  {
   "cell_type": "markdown",
   "metadata": {},
   "source": [
    "## 1. 增加層數, drop_ratio = 0.3"
   ]
  },
  {
   "cell_type": "code",
   "execution_count": 7,
   "metadata": {
    "scrolled": true
   },
   "outputs": [
    {
     "name": "stdout",
     "output_type": "stream",
     "text": [
      "_________________________________________________________________\n",
      "Layer (type)                 Output Shape              Param #   \n",
      "=================================================================\n",
      "input_1 (InputLayer)         (None, 3072)              0         \n",
      "_________________________________________________________________\n",
      "hidden_layer1 (Dense)        (None, 512)               1573376   \n",
      "_________________________________________________________________\n",
      "dropout_1 (Dropout)          (None, 512)               0         \n",
      "_________________________________________________________________\n",
      "hidden_layer2 (Dense)        (None, 256)               131328    \n",
      "_________________________________________________________________\n",
      "dropout_2 (Dropout)          (None, 256)               0         \n",
      "_________________________________________________________________\n",
      "hidden_layer3 (Dense)        (None, 128)               32896     \n",
      "_________________________________________________________________\n",
      "dropout_3 (Dropout)          (None, 128)               0         \n",
      "_________________________________________________________________\n",
      "hidden_layer4 (Dense)        (None, 32)                4128      \n",
      "_________________________________________________________________\n",
      "dropout_4 (Dropout)          (None, 32)                0         \n",
      "_________________________________________________________________\n",
      "output (Dense)               (None, 10)                330       \n",
      "=================================================================\n",
      "Total params: 1,742,058\n",
      "Trainable params: 1,742,058\n",
      "Non-trainable params: 0\n",
      "_________________________________________________________________\n",
      "Train on 50000 samples, validate on 10000 samples\n",
      "Epoch 1/50\n",
      "50000/50000 [==============================] - 23s 460us/step - loss: 2.2878 - acc: 0.1308 - val_loss: 2.2000 - val_acc: 0.2111\n",
      "Epoch 2/50\n",
      "50000/50000 [==============================] - 19s 380us/step - loss: 2.1926 - acc: 0.1743 - val_loss: 2.0878 - val_acc: 0.2496\n",
      "Epoch 3/50\n",
      "50000/50000 [==============================] - 19s 387us/step - loss: 2.1208 - acc: 0.1964 - val_loss: 2.0151 - val_acc: 0.2826\n",
      "Epoch 4/50\n",
      "50000/50000 [==============================] - 19s 390us/step - loss: 2.0675 - acc: 0.2242 - val_loss: 1.9560 - val_acc: 0.3135\n",
      "Epoch 5/50\n",
      "50000/50000 [==============================] - 19s 378us/step - loss: 2.0172 - acc: 0.2491 - val_loss: 1.8840 - val_acc: 0.3372\n",
      "Epoch 6/50\n",
      "50000/50000 [==============================] - 19s 384us/step - loss: 1.9728 - acc: 0.2683 - val_loss: 1.8466 - val_acc: 0.3465\n",
      "Epoch 7/50\n",
      "50000/50000 [==============================] - 19s 388us/step - loss: 1.9368 - acc: 0.2801 - val_loss: 1.8120 - val_acc: 0.3597\n",
      "Epoch 8/50\n",
      "50000/50000 [==============================] - 19s 386us/step - loss: 1.9027 - acc: 0.2989 - val_loss: 1.7746 - val_acc: 0.3720\n",
      "Epoch 9/50\n",
      "50000/50000 [==============================] - 19s 376us/step - loss: 1.8792 - acc: 0.3080 - val_loss: 1.7483 - val_acc: 0.3845\n",
      "Epoch 10/50\n",
      "50000/50000 [==============================] - 19s 382us/step - loss: 1.8548 - acc: 0.3206 - val_loss: 1.7247 - val_acc: 0.3881\n",
      "Epoch 11/50\n",
      "50000/50000 [==============================] - 19s 388us/step - loss: 1.8319 - acc: 0.3313 - val_loss: 1.6962 - val_acc: 0.3968\n",
      "Epoch 12/50\n",
      "50000/50000 [==============================] - 19s 382us/step - loss: 1.8135 - acc: 0.3361 - val_loss: 1.6786 - val_acc: 0.4012\n",
      "Epoch 13/50\n",
      "50000/50000 [==============================] - 19s 383us/step - loss: 1.7951 - acc: 0.3456 - val_loss: 1.6646 - val_acc: 0.4124\n",
      "Epoch 14/50\n",
      "50000/50000 [==============================] - 19s 382us/step - loss: 1.7809 - acc: 0.3520 - val_loss: 1.6416 - val_acc: 0.4215\n",
      "Epoch 15/50\n",
      "50000/50000 [==============================] - 19s 386us/step - loss: 1.7596 - acc: 0.3587 - val_loss: 1.6288 - val_acc: 0.4211\n",
      "Epoch 16/50\n",
      "50000/50000 [==============================] - 18s 363us/step - loss: 1.7492 - acc: 0.3639 - val_loss: 1.6125 - val_acc: 0.4293\n",
      "Epoch 17/50\n",
      "50000/50000 [==============================] - 18s 362us/step - loss: 1.7340 - acc: 0.3725 - val_loss: 1.5992 - val_acc: 0.4348\n",
      "Epoch 18/50\n",
      "50000/50000 [==============================] - 19s 372us/step - loss: 1.7207 - acc: 0.3765 - val_loss: 1.5908 - val_acc: 0.4341\n",
      "Epoch 19/50\n",
      "50000/50000 [==============================] - 18s 370us/step - loss: 1.7092 - acc: 0.3796 - val_loss: 1.5843 - val_acc: 0.4358\n",
      "Epoch 20/50\n",
      "50000/50000 [==============================] - 17s 348us/step - loss: 1.7002 - acc: 0.3867 - val_loss: 1.5767 - val_acc: 0.4379\n",
      "Epoch 21/50\n",
      "50000/50000 [==============================] - 17s 348us/step - loss: 1.6830 - acc: 0.3883 - val_loss: 1.5636 - val_acc: 0.4441\n",
      "Epoch 22/50\n",
      "50000/50000 [==============================] - 19s 377us/step - loss: 1.6759 - acc: 0.3921 - val_loss: 1.5491 - val_acc: 0.4507\n",
      "Epoch 23/50\n",
      "50000/50000 [==============================] - 18s 362us/step - loss: 1.6678 - acc: 0.3996 - val_loss: 1.5464 - val_acc: 0.4547\n",
      "Epoch 24/50\n",
      "50000/50000 [==============================] - 18s 359us/step - loss: 1.6572 - acc: 0.4016 - val_loss: 1.5374 - val_acc: 0.4520\n",
      "Epoch 25/50\n",
      "50000/50000 [==============================] - 19s 381us/step - loss: 1.6478 - acc: 0.4051 - val_loss: 1.5330 - val_acc: 0.4525\n",
      "Epoch 26/50\n",
      "50000/50000 [==============================] - 19s 376us/step - loss: 1.6424 - acc: 0.4059 - val_loss: 1.5302 - val_acc: 0.4552\n",
      "Epoch 27/50\n",
      "50000/50000 [==============================] - 18s 363us/step - loss: 1.6347 - acc: 0.4124 - val_loss: 1.5122 - val_acc: 0.4621\n",
      "Epoch 28/50\n",
      "50000/50000 [==============================] - 17s 346us/step - loss: 1.6241 - acc: 0.4139 - val_loss: 1.5042 - val_acc: 0.4630\n",
      "Epoch 29/50\n",
      "50000/50000 [==============================] - 18s 350us/step - loss: 1.6127 - acc: 0.4201 - val_loss: 1.4999 - val_acc: 0.4667\n",
      "Epoch 30/50\n",
      "50000/50000 [==============================] - 17s 349us/step - loss: 1.6045 - acc: 0.4240 - val_loss: 1.4946 - val_acc: 0.4621\n",
      "Epoch 31/50\n",
      "50000/50000 [==============================] - 18s 365us/step - loss: 1.5988 - acc: 0.4250 - val_loss: 1.4902 - val_acc: 0.4676\n",
      "Epoch 32/50\n",
      "50000/50000 [==============================] - 19s 372us/step - loss: 1.5884 - acc: 0.4292 - val_loss: 1.4920 - val_acc: 0.4613\n",
      "Epoch 33/50\n",
      "50000/50000 [==============================] - 19s 375us/step - loss: 1.5863 - acc: 0.4304 - val_loss: 1.4783 - val_acc: 0.4726\n",
      "Epoch 34/50\n",
      "50000/50000 [==============================] - 18s 367us/step - loss: 1.5805 - acc: 0.4315 - val_loss: 1.4785 - val_acc: 0.4681\n",
      "Epoch 35/50\n",
      "50000/50000 [==============================] - 18s 367us/step - loss: 1.5696 - acc: 0.4352 - val_loss: 1.4597 - val_acc: 0.4824\n",
      "Epoch 36/50\n",
      "50000/50000 [==============================] - 18s 367us/step - loss: 1.5604 - acc: 0.4403 - val_loss: 1.4617 - val_acc: 0.4753\n",
      "Epoch 37/50\n",
      "50000/50000 [==============================] - 18s 359us/step - loss: 1.5604 - acc: 0.4407 - val_loss: 1.4662 - val_acc: 0.4723\n",
      "Epoch 38/50\n",
      "50000/50000 [==============================] - 18s 353us/step - loss: 1.5509 - acc: 0.4431 - val_loss: 1.4509 - val_acc: 0.4842\n",
      "Epoch 39/50\n",
      "50000/50000 [==============================] - 19s 373us/step - loss: 1.5417 - acc: 0.4448 - val_loss: 1.4522 - val_acc: 0.4804\n",
      "Epoch 40/50\n",
      "50000/50000 [==============================] - 18s 363us/step - loss: 1.5428 - acc: 0.4464 - val_loss: 1.4494 - val_acc: 0.4872\n",
      "Epoch 41/50\n",
      "50000/50000 [==============================] - 18s 366us/step - loss: 1.5331 - acc: 0.4508 - val_loss: 1.4426 - val_acc: 0.4856\n",
      "Epoch 42/50\n",
      "50000/50000 [==============================] - 18s 359us/step - loss: 1.5253 - acc: 0.4550 - val_loss: 1.4381 - val_acc: 0.4865\n",
      "Epoch 43/50\n",
      "50000/50000 [==============================] - 19s 370us/step - loss: 1.5220 - acc: 0.4529 - val_loss: 1.4420 - val_acc: 0.4808\n",
      "Epoch 44/50\n",
      "50000/50000 [==============================] - 18s 361us/step - loss: 1.5177 - acc: 0.4558 - val_loss: 1.4431 - val_acc: 0.4836\n",
      "Epoch 45/50\n",
      "50000/50000 [==============================] - 18s 366us/step - loss: 1.5131 - acc: 0.4576 - val_loss: 1.4208 - val_acc: 0.4928\n",
      "Epoch 46/50\n",
      "50000/50000 [==============================] - 18s 359us/step - loss: 1.5031 - acc: 0.4610 - val_loss: 1.4232 - val_acc: 0.4896\n",
      "Epoch 47/50\n"
     ]
    },
    {
     "name": "stdout",
     "output_type": "stream",
     "text": [
      "50000/50000 [==============================] - 17s 344us/step - loss: 1.5007 - acc: 0.4627 - val_loss: 1.4236 - val_acc: 0.4896\n",
      "Epoch 48/50\n",
      "50000/50000 [==============================] - 18s 355us/step - loss: 1.4970 - acc: 0.4660 - val_loss: 1.4131 - val_acc: 0.4884\n",
      "Epoch 49/50\n",
      "50000/50000 [==============================] - 18s 355us/step - loss: 1.4954 - acc: 0.4638 - val_loss: 1.4258 - val_acc: 0.4909\n",
      "Epoch 50/50\n",
      "50000/50000 [==============================] - 17s 347us/step - loss: 1.4817 - acc: 0.4692 - val_loss: 1.4160 - val_acc: 0.4927\n"
     ]
    }
   ],
   "source": [
    "model = build_mlp(input_shape=x_train.shape[1:], drop_ratio=Dropout_EXP)\n",
    "model.summary()\n",
    "optimizer = keras.optimizers.SGD(lr=LEARNING_RATE, nesterov=True, momentum=MOMENTUM)\n",
    "model.compile(loss=\"categorical_crossentropy\", metrics=[\"accuracy\"], optimizer=optimizer)\n",
    "\n",
    "model.fit(x_train, y_train, \n",
    "          epochs=EPOCHS, \n",
    "          batch_size=BATCH_SIZE, \n",
    "          validation_data=(x_test, y_test), \n",
    "          shuffle=True)\n",
    "\n",
    "# Collect results\n",
    "train_loss = model.history.history[\"loss\"]\n",
    "valid_loss = model.history.history[\"val_loss\"]\n",
    "train_acc = model.history.history[\"acc\"]\n",
    "valid_acc = model.history.history[\"val_acc\"]"
   ]
  },
  {
   "cell_type": "code",
   "execution_count": 8,
   "metadata": {},
   "outputs": [
    {
     "data": {
      "image/png": "[encoded data removed]",
      "text/plain": [
       "<Figure size 432x288 with 1 Axes>"
      ]
     },
     "metadata": {
      "needs_background": "light"
     },
     "output_type": "display_data"
    },
    {
     "data": {
      "image/png": "[encoded data removed]",
      "text/plain": [
       "<Figure size 432x288 with 1 Axes>"
      ]
     },
     "metadata": {
      "needs_background": "light"
     },
     "output_type": "display_data"
    }
   ],
   "source": [
    "import matplotlib.pyplot as plt\n",
    "%matplotlib inline\n",
    "\n",
    "plt.plot(range(len(train_loss)), train_loss, label=\"train loss\")\n",
    "plt.plot(range(len(valid_loss)), valid_loss, label=\"valid loss\")\n",
    "plt.legend()\n",
    "plt.title(\"Loss\")\n",
    "plt.show()\n",
    "\n",
    "plt.plot(range(len(train_acc)), train_acc, label=\"train accuracy\")\n",
    "plt.plot(range(len(valid_acc)), valid_acc, label=\"valid accuracy\")\n",
    "plt.legend()\n",
    "plt.title(\"Accuracy\")\n",
    "plt.show()"
   ]
  },
  {
   "cell_type": "markdown",
   "metadata": {},
   "source": [
    "## 2. 使用adam"
   ]
  },
  {
   "cell_type": "code",
   "execution_count": 9,
   "metadata": {},
   "outputs": [
    {
     "name": "stdout",
     "output_type": "stream",
     "text": [
      "_________________________________________________________________\n",
      "Layer (type)                 Output Shape              Param #   \n",
      "=================================================================\n",
      "input_2 (InputLayer)         (None, 3072)              0         \n",
      "_________________________________________________________________\n",
      "hidden_layer1 (Dense)        (None, 512)               1573376   \n",
      "_________________________________________________________________\n",
      "dropout_5 (Dropout)          (None, 512)               0         \n",
      "_________________________________________________________________\n",
      "hidden_layer2 (Dense)        (None, 256)               131328    \n",
      "_________________________________________________________________\n",
      "dropout_6 (Dropout)          (None, 256)               0         \n",
      "_________________________________________________________________\n",
      "hidden_layer3 (Dense)        (None, 128)               32896     \n",
      "_________________________________________________________________\n",
      "dropout_7 (Dropout)          (None, 128)               0         \n",
      "_________________________________________________________________\n",
      "hidden_layer4 (Dense)        (None, 32)                4128      \n",
      "_________________________________________________________________\n",
      "dropout_8 (Dropout)          (None, 32)                0         \n",
      "_________________________________________________________________\n",
      "output (Dense)               (None, 10)                330       \n",
      "=================================================================\n",
      "Total params: 1,742,058\n",
      "Trainable params: 1,742,058\n",
      "Non-trainable params: 0\n",
      "_________________________________________________________________\n",
      "Train on 50000 samples, validate on 10000 samples\n",
      "Epoch 1/50\n",
      "50000/50000 [==============================] - 23s 469us/step - loss: 2.1747 - acc: 0.1750 - val_loss: 1.9638 - val_acc: 0.2777\n",
      "Epoch 2/50\n",
      "50000/50000 [==============================] - 22s 433us/step - loss: 1.9573 - acc: 0.2753 - val_loss: 1.8279 - val_acc: 0.3423\n",
      "Epoch 3/50\n",
      "50000/50000 [==============================] - 22s 443us/step - loss: 1.8927 - acc: 0.3065 - val_loss: 1.7990 - val_acc: 0.3472\n",
      "Epoch 4/50\n",
      "50000/50000 [==============================] - 22s 436us/step - loss: 1.8517 - acc: 0.3266 - val_loss: 1.7497 - val_acc: 0.3734\n",
      "Epoch 5/50\n",
      "50000/50000 [==============================] - 22s 436us/step - loss: 1.8126 - acc: 0.3436 - val_loss: 1.7210 - val_acc: 0.3916\n",
      "Epoch 6/50\n",
      "50000/50000 [==============================] - 24s 474us/step - loss: 1.7963 - acc: 0.3540 - val_loss: 1.6905 - val_acc: 0.3983\n",
      "Epoch 7/50\n",
      "50000/50000 [==============================] - 22s 443us/step - loss: 1.7779 - acc: 0.3600 - val_loss: 1.6847 - val_acc: 0.3966\n",
      "Epoch 8/50\n",
      "50000/50000 [==============================] - 22s 432us/step - loss: 1.7554 - acc: 0.3669 - val_loss: 1.6860 - val_acc: 0.3948\n",
      "Epoch 9/50\n",
      "50000/50000 [==============================] - 21s 422us/step - loss: 1.7469 - acc: 0.3709 - val_loss: 1.6479 - val_acc: 0.4162\n",
      "Epoch 10/50\n",
      "50000/50000 [==============================] - 21s 417us/step - loss: 1.7263 - acc: 0.3796 - val_loss: 1.6251 - val_acc: 0.4246\n",
      "Epoch 11/50\n",
      "50000/50000 [==============================] - 21s 421us/step - loss: 1.7090 - acc: 0.3835 - val_loss: 1.6161 - val_acc: 0.4261\n",
      "Epoch 12/50\n",
      "50000/50000 [==============================] - 21s 430us/step - loss: 1.6952 - acc: 0.3894 - val_loss: 1.6068 - val_acc: 0.4306\n",
      "Epoch 13/50\n",
      "50000/50000 [==============================] - 20s 409us/step - loss: 1.6836 - acc: 0.3940 - val_loss: 1.6016 - val_acc: 0.4275\n",
      "Epoch 14/50\n",
      "50000/50000 [==============================] - 20s 408us/step - loss: 1.6727 - acc: 0.4018 - val_loss: 1.5886 - val_acc: 0.4378\n",
      "Epoch 15/50\n",
      "50000/50000 [==============================] - 20s 396us/step - loss: 1.6636 - acc: 0.4030 - val_loss: 1.5609 - val_acc: 0.4517\n",
      "Epoch 16/50\n",
      "50000/50000 [==============================] - 20s 402us/step - loss: 1.6556 - acc: 0.4064 - val_loss: 1.5669 - val_acc: 0.4482\n",
      "Epoch 17/50\n",
      "50000/50000 [==============================] - 20s 401us/step - loss: 1.6466 - acc: 0.4110 - val_loss: 1.5519 - val_acc: 0.4527\n",
      "Epoch 18/50\n",
      "50000/50000 [==============================] - 20s 399us/step - loss: 1.6387 - acc: 0.4127 - val_loss: 1.5706 - val_acc: 0.4484\n",
      "Epoch 19/50\n",
      "50000/50000 [==============================] - 20s 400us/step - loss: 1.6291 - acc: 0.4157 - val_loss: 1.5644 - val_acc: 0.4443\n",
      "Epoch 20/50\n",
      "50000/50000 [==============================] - 17s 340us/step - loss: 1.6310 - acc: 0.4168 - val_loss: 1.5312 - val_acc: 0.4629\n",
      "Epoch 21/50\n",
      "50000/50000 [==============================] - 11s 217us/step - loss: 1.6172 - acc: 0.4203 - val_loss: 1.5334 - val_acc: 0.4585\n",
      "Epoch 22/50\n",
      "50000/50000 [==============================] - 11s 217us/step - loss: 1.6157 - acc: 0.4227 - val_loss: 1.5669 - val_acc: 0.4460\n",
      "Epoch 23/50\n",
      "50000/50000 [==============================] - 11s 217us/step - loss: 1.6064 - acc: 0.4257 - val_loss: 1.5287 - val_acc: 0.4547\n",
      "Epoch 24/50\n",
      "50000/50000 [==============================] - 11s 216us/step - loss: 1.6074 - acc: 0.4249 - val_loss: 1.5172 - val_acc: 0.4659\n",
      "Epoch 25/50\n",
      "50000/50000 [==============================] - 11s 219us/step - loss: 1.6043 - acc: 0.4275 - val_loss: 1.5185 - val_acc: 0.4614\n",
      "Epoch 26/50\n",
      "50000/50000 [==============================] - 11s 218us/step - loss: 1.5935 - acc: 0.4294 - val_loss: 1.5382 - val_acc: 0.4567\n",
      "Epoch 27/50\n",
      "50000/50000 [==============================] - 11s 214us/step - loss: 1.5885 - acc: 0.4340 - val_loss: 1.5274 - val_acc: 0.4603\n",
      "Epoch 28/50\n",
      "50000/50000 [==============================] - 11s 214us/step - loss: 1.5928 - acc: 0.4314 - val_loss: 1.5407 - val_acc: 0.4552\n",
      "Epoch 29/50\n",
      "50000/50000 [==============================] - 11s 213us/step - loss: 1.5804 - acc: 0.4383 - val_loss: 1.5048 - val_acc: 0.4724\n",
      "Epoch 30/50\n",
      "50000/50000 [==============================] - 11s 214us/step - loss: 1.5809 - acc: 0.4354 - val_loss: 1.5336 - val_acc: 0.4603\n",
      "Epoch 31/50\n",
      "50000/50000 [==============================] - 11s 211us/step - loss: 1.5702 - acc: 0.4387 - val_loss: 1.4978 - val_acc: 0.4704\n",
      "Epoch 32/50\n",
      "50000/50000 [==============================] - 11s 214us/step - loss: 1.5650 - acc: 0.4410 - val_loss: 1.5097 - val_acc: 0.4687\n",
      "Epoch 33/50\n",
      "50000/50000 [==============================] - 11s 214us/step - loss: 1.5776 - acc: 0.4357 - val_loss: 1.5119 - val_acc: 0.4606\n",
      "Epoch 34/50\n",
      "50000/50000 [==============================] - 11s 215us/step - loss: 1.5669 - acc: 0.4430 - val_loss: 1.5009 - val_acc: 0.4727\n",
      "Epoch 35/50\n",
      "50000/50000 [==============================] - 11s 216us/step - loss: 1.5594 - acc: 0.4420 - val_loss: 1.4999 - val_acc: 0.4680\n",
      "Epoch 36/50\n",
      "50000/50000 [==============================] - 11s 222us/step - loss: 1.5567 - acc: 0.4457 - val_loss: 1.4781 - val_acc: 0.4765\n",
      "Epoch 37/50\n",
      "50000/50000 [==============================] - 11s 217us/step - loss: 1.5464 - acc: 0.4513 - val_loss: 1.4932 - val_acc: 0.4728\n",
      "Epoch 38/50\n",
      "50000/50000 [==============================] - 11s 218us/step - loss: 1.5501 - acc: 0.4464 - val_loss: 1.4894 - val_acc: 0.4742\n",
      "Epoch 39/50\n",
      "50000/50000 [==============================] - 11s 221us/step - loss: 1.5424 - acc: 0.4499 - val_loss: 1.4945 - val_acc: 0.4745\n",
      "Epoch 40/50\n",
      "50000/50000 [==============================] - 11s 219us/step - loss: 1.5372 - acc: 0.4520 - val_loss: 1.4852 - val_acc: 0.4784\n",
      "Epoch 41/50\n",
      "50000/50000 [==============================] - 11s 219us/step - loss: 1.5384 - acc: 0.4505 - val_loss: 1.5134 - val_acc: 0.4633\n",
      "Epoch 42/50\n",
      "50000/50000 [==============================] - 11s 217us/step - loss: 1.5355 - acc: 0.4525 - val_loss: 1.4776 - val_acc: 0.4675\n",
      "Epoch 43/50\n",
      "50000/50000 [==============================] - 11s 214us/step - loss: 1.5330 - acc: 0.4553 - val_loss: 1.4770 - val_acc: 0.4764\n",
      "Epoch 44/50\n",
      "50000/50000 [==============================] - 11s 217us/step - loss: 1.5300 - acc: 0.4553 - val_loss: 1.4988 - val_acc: 0.4770\n",
      "Epoch 45/50\n",
      "50000/50000 [==============================] - 11s 218us/step - loss: 1.5321 - acc: 0.4517 - val_loss: 1.4449 - val_acc: 0.4873\n",
      "Epoch 46/50\n",
      "50000/50000 [==============================] - 11s 214us/step - loss: 1.5281 - acc: 0.4565 - val_loss: 1.4977 - val_acc: 0.4673\n",
      "Epoch 47/50\n"
     ]
    },
    {
     "name": "stdout",
     "output_type": "stream",
     "text": [
      "50000/50000 [==============================] - 11s 221us/step - loss: 1.5260 - acc: 0.4562 - val_loss: 1.4720 - val_acc: 0.4786\n",
      "Epoch 48/50\n",
      "50000/50000 [==============================] - 11s 219us/step - loss: 1.5210 - acc: 0.4617 - val_loss: 1.4775 - val_acc: 0.4701\n",
      "Epoch 49/50\n",
      "50000/50000 [==============================] - 11s 213us/step - loss: 1.5138 - acc: 0.4634 - val_loss: 1.4898 - val_acc: 0.4777\n",
      "Epoch 50/50\n",
      "50000/50000 [==============================] - 11s 215us/step - loss: 1.5128 - acc: 0.4616 - val_loss: 1.4978 - val_acc: 0.4728\n"
     ]
    }
   ],
   "source": [
    "Dropout_EXP = 0.2\n",
    "model = build_mlp(input_shape=x_train.shape[1:], drop_ratio=Dropout_EXP)\n",
    "model.summary()\n",
    "model.compile(loss=\"categorical_crossentropy\", metrics=[\"accuracy\"], optimizer='adam')\n",
    "\n",
    "model.fit(x_train, y_train, \n",
    "          epochs=EPOCHS, \n",
    "          batch_size=BATCH_SIZE, \n",
    "          validation_data=(x_test, y_test), \n",
    "          shuffle=True)\n",
    "\n",
    "# Collect results\n",
    "train_loss = model.history.history[\"loss\"]\n",
    "valid_loss = model.history.history[\"val_loss\"]\n",
    "train_acc = model.history.history[\"acc\"]\n",
    "valid_acc = model.history.history[\"val_acc\"]"
   ]
  },
  {
   "cell_type": "code",
   "execution_count": 10,
   "metadata": {},
   "outputs": [
    {
     "data": {
      "image/png": "[encoded data removed]",
      "text/plain": [
       "<Figure size 432x288 with 1 Axes>"
      ]
     },
     "metadata": {
      "needs_background": "light"
     },
     "output_type": "display_data"
    },
    {
     "data": {
      "image/png": "[encoded data removed]",
      "text/plain": [
       "<Figure size 432x288 with 1 Axes>"
      ]
     },
     "metadata": {
      "needs_background": "light"
     },
     "output_type": "display_data"
    }
   ],
   "source": [
    "plt.plot(range(len(train_loss)), train_loss, label=\"train loss\")\n",
    "plt.plot(range(len(valid_loss)), valid_loss, label=\"valid loss\")\n",
    "plt.legend()\n",
    "plt.title(\"Loss\")\n",
    "plt.show()\n",
    "\n",
    "plt.plot(range(len(train_acc)), train_acc, label=\"train accuracy\")\n",
    "plt.plot(range(len(valid_acc)), valid_acc, label=\"valid accuracy\")\n",
    "plt.legend()\n",
    "plt.title(\"Accuracy\")\n",
    "plt.show()"
   ]
  },
  {
   "cell_type": "code",
   "execution_count": null,
   "metadata": {},
   "outputs": [],
   "source": []
  }
 ],
 "metadata": {
  "kernelspec": {
   "display_name": "Python 3",
   "language": "python",
   "name": "python3"
  },
  "language_info": {
   "codemirror_mode": {
    "name": "ipython",
    "version": 3
   },
   "file_extension": ".py",
   "mimetype": "text/x-python",
   "name": "python",
   "nbconvert_exporter": "python",
   "pygments_lexer": "ipython3",
   "version": "3.6.6"
  }
 },
 "nbformat": 4,
 "nbformat_minor": 2
}

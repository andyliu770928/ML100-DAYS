{
 "cells": [
  {
   "cell_type": "markdown",
   "metadata": {},
   "source": [
    "## Work\n",
    "1. 請嘗試將 preproc_x 替換成以每筆資料的 min/max 進行標準化至 -1 ~ 1 間，再進行訓練\n",
    "2. 請嘗試將 mlp 疊更深 (e.g 5~10 層)，進行訓練後觀察 learning curve 的走勢\n",
    "3. (optional) 請改用 GPU 進行訓練 (如果你有 GPU 的話)，比較使用 CPU 與 GPU 的訓練速度"
   ]
  },
  {
   "cell_type": "code",
   "execution_count": 1,
   "metadata": {},
   "outputs": [
    {
     "data": {
      "text/plain": [
       "'\\nYour code here\\n'"
      ]
     },
     "execution_count": 1,
     "metadata": {},
     "output_type": "execute_result"
    }
   ],
   "source": [
    "## 確認硬體資源\n",
    "\"\"\"\n",
    "Your code here\n",
    "\"\"\"\n"
   ]
  },
  {
   "cell_type": "code",
   "execution_count": 2,
   "metadata": {},
   "outputs": [
    {
     "name": "stderr",
     "output_type": "stream",
     "text": [
      "Using TensorFlow backend.\n"
     ]
    }
   ],
   "source": [
    "import os\n",
    "import keras\n",
    "\n",
    "# Try to enable GPU (optional)\n"
   ]
  },
  {
   "cell_type": "code",
   "execution_count": 3,
   "metadata": {},
   "outputs": [],
   "source": [
    "train, test = keras.datasets.cifar10.load_data()"
   ]
  },
  {
   "cell_type": "code",
   "execution_count": 7,
   "metadata": {},
   "outputs": [],
   "source": [
    "## 資料前處理\n",
    "\n",
    "\"\"\"\n",
    "Your code here\n",
    "\"\"\"\n",
    "def preproc_x(x, flatten=True):\n",
    "    x = x.reshape((len(x), -1))\n",
    "    x = (x - x.min(axis=0)) / (x.max(axis=0) - x.min(axis=0)) * 2 - 1\n",
    "    if not flatten:\n",
    "        x = x.reshape(original_shape)\n",
    "    return x\n",
    "\n",
    "def preproc_y(y, num_classes=10):\n",
    "    if y.shape[-1] == 1:\n",
    "        y = keras.utils.to_categorical(y, num_classes)\n",
    "    return y"
   ]
  },
  {
   "cell_type": "code",
   "execution_count": 8,
   "metadata": {},
   "outputs": [],
   "source": [
    "x_train, y_train = train\n",
    "x_test, y_test = test\n",
    "\n",
    "# Preproc the inputs\n",
    "x_train = preproc_x(x_train)\n",
    "x_test = preproc_x(x_test)\n",
    "\n",
    "# Preprc the outputs\n",
    "y_train = preproc_y(y_train)\n",
    "y_test = preproc_y(y_test)\n"
   ]
  },
  {
   "cell_type": "code",
   "execution_count": 9,
   "metadata": {},
   "outputs": [
    {
     "name": "stdout",
     "output_type": "stream",
     "text": [
      "_________________________________________________________________\n",
      "Layer (type)                 Output Shape              Param #   \n",
      "=================================================================\n",
      "input_1 (InputLayer)         (None, 3072)              0         \n",
      "_________________________________________________________________\n",
      "hidden_layer1 (Dense)        (None, 256)               786688    \n",
      "_________________________________________________________________\n",
      "hidden_layer2 (Dense)        (None, 128)               32896     \n",
      "_________________________________________________________________\n",
      "hidden_layer3 (Dense)        (None, 64)                8256      \n",
      "_________________________________________________________________\n",
      "hidden_layer4 (Dense)        (None, 32)                2080      \n",
      "_________________________________________________________________\n",
      "hidden_layer5 (Dense)        (None, 16)                528       \n",
      "_________________________________________________________________\n",
      "output (Dense)               (None, 10)                170       \n",
      "=================================================================\n",
      "Total params: 830,618\n",
      "Trainable params: 830,618\n",
      "Non-trainable params: 0\n",
      "_________________________________________________________________\n"
     ]
    }
   ],
   "source": [
    "\"\"\"\n",
    "Your code here\n",
    "\"\"\"\n",
    "def build_mlp(input_shape, output_units=10, num_neurons=[256, 128, 64, 32, 16]):\n",
    "    input_layer = keras.layers.Input(input_shape)\n",
    "    \n",
    "    for i, n_units in enumerate(num_neurons):\n",
    "        if i == 0:\n",
    "            x = keras.layers.Dense(units=n_units, activation=\"relu\", name=\"hidden_layer\"+str(i+1))(input_layer)\n",
    "        else:\n",
    "            x = keras.layers.Dense(units=n_units, activation=\"relu\", name=\"hidden_layer\"+str(i+1))(x)\n",
    "    \n",
    "    out = keras.layers.Dense(units=output_units, activation=\"softmax\", name=\"output\")(x)\n",
    "    \n",
    "    model = keras.models.Model(inputs=[input_layer], outputs=[out])\n",
    "    return model\n",
    "model = build_mlp(input_shape=x_train.shape[1:])\n",
    "model.summary()"
   ]
  },
  {
   "cell_type": "code",
   "execution_count": 10,
   "metadata": {},
   "outputs": [],
   "source": [
    "## 超參數設定\n",
    "LEARNING_RATE = 0.001\n",
    "EPOCHS = 100\n",
    "BATCH_SIZE = 256"
   ]
  },
  {
   "cell_type": "code",
   "execution_count": 11,
   "metadata": {},
   "outputs": [],
   "source": [
    "optimizer = keras.optimizers.Adam(lr=LEARNING_RATE)\n",
    "model.compile(loss=\"categorical_crossentropy\", metrics=[\"accuracy\"], optimizer=optimizer)"
   ]
  },
  {
   "cell_type": "code",
   "execution_count": 12,
   "metadata": {},
   "outputs": [
    {
     "name": "stdout",
     "output_type": "stream",
     "text": [
      "Train on 50000 samples, validate on 10000 samples\n",
      "Epoch 1/100\n",
      "50000/50000 [==============================] - 7s 133us/step - loss: 1.8213 - acc: 0.3531 - val_loss: 1.6196 - val_acc: 0.4252\n",
      "Epoch 2/100\n",
      "50000/50000 [==============================] - 6s 119us/step - loss: 1.5474 - acc: 0.4532 - val_loss: 1.5012 - val_acc: 0.4715\n",
      "Epoch 3/100\n",
      "50000/50000 [==============================] - 6s 119us/step - loss: 1.4206 - acc: 0.5004 - val_loss: 1.4585 - val_acc: 0.4820\n",
      "Epoch 4/100\n",
      "50000/50000 [==============================] - 6s 120us/step - loss: 1.3308 - acc: 0.5321 - val_loss: 1.4187 - val_acc: 0.5015\n",
      "Epoch 5/100\n",
      "50000/50000 [==============================] - 6s 119us/step - loss: 1.2562 - acc: 0.5591 - val_loss: 1.4031 - val_acc: 0.5118\n",
      "Epoch 6/100\n",
      "50000/50000 [==============================] - 6s 124us/step - loss: 1.1902 - acc: 0.5807 - val_loss: 1.3621 - val_acc: 0.5283\n",
      "Epoch 7/100\n",
      "50000/50000 [==============================] - 6s 122us/step - loss: 1.1246 - acc: 0.6034 - val_loss: 1.3773 - val_acc: 0.5249\n",
      "Epoch 8/100\n",
      "50000/50000 [==============================] - 7s 139us/step - loss: 1.0650 - acc: 0.6236 - val_loss: 1.3919 - val_acc: 0.5222\n",
      "Epoch 9/100\n",
      "50000/50000 [==============================] - 7s 131us/step - loss: 1.0152 - acc: 0.6414 - val_loss: 1.3798 - val_acc: 0.5312\n",
      "Epoch 10/100\n",
      "50000/50000 [==============================] - 7s 130us/step - loss: 0.9615 - acc: 0.6601 - val_loss: 1.3944 - val_acc: 0.5360\n",
      "Epoch 11/100\n",
      "50000/50000 [==============================] - 7s 137us/step - loss: 0.9185 - acc: 0.6768 - val_loss: 1.4170 - val_acc: 0.5326\n",
      "Epoch 12/100\n",
      "50000/50000 [==============================] - 7s 142us/step - loss: 0.8675 - acc: 0.6919 - val_loss: 1.4874 - val_acc: 0.5188\n",
      "Epoch 13/100\n",
      "50000/50000 [==============================] - 7s 136us/step - loss: 0.8200 - acc: 0.7110 - val_loss: 1.5599 - val_acc: 0.5180\n",
      "Epoch 14/100\n",
      "50000/50000 [==============================] - 6s 128us/step - loss: 0.7748 - acc: 0.7279 - val_loss: 1.5281 - val_acc: 0.5356\n",
      "Epoch 15/100\n",
      "50000/50000 [==============================] - 7s 143us/step - loss: 0.7435 - acc: 0.7386 - val_loss: 1.5824 - val_acc: 0.5320\n",
      "Epoch 16/100\n",
      "50000/50000 [==============================] - 6s 124us/step - loss: 0.7021 - acc: 0.7536 - val_loss: 1.6172 - val_acc: 0.5259\n",
      "Epoch 17/100\n",
      "50000/50000 [==============================] - 6s 120us/step - loss: 0.6607 - acc: 0.7663 - val_loss: 1.6765 - val_acc: 0.5258\n",
      "Epoch 18/100\n",
      "50000/50000 [==============================] - 7s 130us/step - loss: 0.6267 - acc: 0.7784 - val_loss: 1.7385 - val_acc: 0.5229\n",
      "Epoch 19/100\n",
      "50000/50000 [==============================] - 7s 133us/step - loss: 0.5905 - acc: 0.7923 - val_loss: 1.8254 - val_acc: 0.5249\n",
      "Epoch 20/100\n",
      "50000/50000 [==============================] - 7s 146us/step - loss: 0.5571 - acc: 0.8032 - val_loss: 1.8350 - val_acc: 0.5239\n",
      "Epoch 21/100\n",
      "50000/50000 [==============================] - 7s 136us/step - loss: 0.5255 - acc: 0.8140 - val_loss: 1.9305 - val_acc: 0.5183\n",
      "Epoch 22/100\n",
      "50000/50000 [==============================] - 6s 129us/step - loss: 0.5073 - acc: 0.8209 - val_loss: 1.9913 - val_acc: 0.5236\n",
      "Epoch 23/100\n",
      "50000/50000 [==============================] - 6s 121us/step - loss: 0.4781 - acc: 0.8310 - val_loss: 2.0563 - val_acc: 0.5235\n",
      "Epoch 24/100\n",
      "50000/50000 [==============================] - 7s 132us/step - loss: 0.4421 - acc: 0.8466 - val_loss: 2.0840 - val_acc: 0.5192\n",
      "Epoch 25/100\n",
      "50000/50000 [==============================] - 7s 142us/step - loss: 0.4255 - acc: 0.8505 - val_loss: 2.1798 - val_acc: 0.5101\n",
      "Epoch 26/100\n",
      "50000/50000 [==============================] - 6s 120us/step - loss: 0.4209 - acc: 0.8509 - val_loss: 2.2041 - val_acc: 0.5197\n",
      "Epoch 27/100\n",
      "50000/50000 [==============================] - 6s 114us/step - loss: 0.3838 - acc: 0.8657 - val_loss: 2.3916 - val_acc: 0.5130\n",
      "Epoch 28/100\n",
      "50000/50000 [==============================] - 6s 116us/step - loss: 0.3667 - acc: 0.8717 - val_loss: 2.3611 - val_acc: 0.5184\n",
      "Epoch 29/100\n",
      "50000/50000 [==============================] - 6s 114us/step - loss: 0.3627 - acc: 0.8722 - val_loss: 2.4143 - val_acc: 0.5100\n",
      "Epoch 30/100\n",
      "50000/50000 [==============================] - 6s 114us/step - loss: 0.3292 - acc: 0.8845 - val_loss: 2.5179 - val_acc: 0.5110\n",
      "Epoch 31/100\n",
      "50000/50000 [==============================] - 6s 116us/step - loss: 0.3393 - acc: 0.8821 - val_loss: 2.5346 - val_acc: 0.5149\n",
      "Epoch 32/100\n",
      "50000/50000 [==============================] - 6s 114us/step - loss: 0.3063 - acc: 0.8938 - val_loss: 2.6452 - val_acc: 0.5127\n",
      "Epoch 33/100\n",
      "50000/50000 [==============================] - 6s 113us/step - loss: 0.3058 - acc: 0.8931 - val_loss: 2.6402 - val_acc: 0.5146\n",
      "Epoch 34/100\n",
      "50000/50000 [==============================] - 6s 116us/step - loss: 0.2973 - acc: 0.8948 - val_loss: 2.7089 - val_acc: 0.5124\n",
      "Epoch 35/100\n",
      "50000/50000 [==============================] - 6s 114us/step - loss: 0.2749 - acc: 0.9055 - val_loss: 2.8233 - val_acc: 0.5090\n",
      "Epoch 36/100\n",
      "50000/50000 [==============================] - 6s 117us/step - loss: 0.2622 - acc: 0.9088 - val_loss: 2.8523 - val_acc: 0.5150\n",
      "Epoch 37/100\n",
      "50000/50000 [==============================] - 6s 118us/step - loss: 0.2556 - acc: 0.9124 - val_loss: 2.8784 - val_acc: 0.5094\n",
      "Epoch 38/100\n",
      "50000/50000 [==============================] - 6s 113us/step - loss: 0.2507 - acc: 0.9131 - val_loss: 2.8918 - val_acc: 0.5116\n",
      "Epoch 39/100\n",
      "50000/50000 [==============================] - 6s 115us/step - loss: 0.2323 - acc: 0.9202 - val_loss: 2.9740 - val_acc: 0.5128\n",
      "Epoch 40/100\n",
      "50000/50000 [==============================] - 6s 114us/step - loss: 0.2295 - acc: 0.9219 - val_loss: 3.0456 - val_acc: 0.5029\n",
      "Epoch 41/100\n",
      "50000/50000 [==============================] - 6s 114us/step - loss: 0.2187 - acc: 0.9248 - val_loss: 3.1053 - val_acc: 0.5088\n",
      "Epoch 42/100\n",
      "50000/50000 [==============================] - 6s 116us/step - loss: 0.2308 - acc: 0.9209 - val_loss: 3.0516 - val_acc: 0.5056\n",
      "Epoch 43/100\n",
      "50000/50000 [==============================] - 6s 114us/step - loss: 0.2223 - acc: 0.9242 - val_loss: 3.1042 - val_acc: 0.5090\n",
      "Epoch 44/100\n",
      "50000/50000 [==============================] - 6s 113us/step - loss: 0.2141 - acc: 0.9270 - val_loss: 3.2159 - val_acc: 0.5168\n",
      "Epoch 45/100\n",
      "50000/50000 [==============================] - 6s 115us/step - loss: 0.2013 - acc: 0.9292 - val_loss: 3.2184 - val_acc: 0.5010\n",
      "Epoch 46/100\n",
      "50000/50000 [==============================] - 6s 113us/step - loss: 0.2060 - acc: 0.9283 - val_loss: 3.2988 - val_acc: 0.5022\n",
      "Epoch 47/100\n",
      "50000/50000 [==============================] - 6s 114us/step - loss: 0.1935 - acc: 0.9339 - val_loss: 3.2843 - val_acc: 0.5042\n",
      "Epoch 48/100\n",
      "50000/50000 [==============================] - 6s 116us/step - loss: 0.1790 - acc: 0.9382 - val_loss: 3.2721 - val_acc: 0.5096\n",
      "Epoch 49/100\n",
      "50000/50000 [==============================] - 6s 114us/step - loss: 0.1744 - acc: 0.9394 - val_loss: 3.3271 - val_acc: 0.5040\n",
      "Epoch 50/100\n",
      "50000/50000 [==============================] - 6s 115us/step - loss: 0.1747 - acc: 0.9402 - val_loss: 3.4718 - val_acc: 0.5118\n",
      "Epoch 51/100\n",
      "50000/50000 [==============================] - 6s 115us/step - loss: 0.1664 - acc: 0.9418 - val_loss: 3.4376 - val_acc: 0.5111\n",
      "Epoch 52/100\n",
      "50000/50000 [==============================] - 6s 115us/step - loss: 0.1673 - acc: 0.9423 - val_loss: 3.5972 - val_acc: 0.5111\n",
      "Epoch 53/100\n",
      "50000/50000 [==============================] - 6s 115us/step - loss: 0.1689 - acc: 0.9421 - val_loss: 3.4890 - val_acc: 0.5053\n",
      "Epoch 54/100\n",
      "50000/50000 [==============================] - 6s 114us/step - loss: 0.1902 - acc: 0.9349 - val_loss: 3.5381 - val_acc: 0.5078\n",
      "Epoch 55/100\n",
      "50000/50000 [==============================] - 6s 113us/step - loss: 0.1617 - acc: 0.9453 - val_loss: 3.5686 - val_acc: 0.5099\n",
      "Epoch 56/100\n",
      "50000/50000 [==============================] - 6s 115us/step - loss: 0.1625 - acc: 0.9439 - val_loss: 3.5767 - val_acc: 0.5090\n",
      "Epoch 57/100\n",
      "50000/50000 [==============================] - 6s 113us/step - loss: 0.1347 - acc: 0.9540 - val_loss: 3.6767 - val_acc: 0.5148\n",
      "Epoch 58/100\n",
      "50000/50000 [==============================] - 6s 114us/step - loss: 0.1655 - acc: 0.9433 - val_loss: 3.6689 - val_acc: 0.5071\n",
      "Epoch 59/100\n"
     ]
    },
    {
     "name": "stdout",
     "output_type": "stream",
     "text": [
      "50000/50000 [==============================] - 6s 116us/step - loss: 0.1539 - acc: 0.9480 - val_loss: 3.6691 - val_acc: 0.5073\n",
      "Epoch 60/100\n",
      "50000/50000 [==============================] - 6s 113us/step - loss: 0.1221 - acc: 0.9581 - val_loss: 3.8038 - val_acc: 0.5145\n",
      "Epoch 61/100\n",
      "50000/50000 [==============================] - 6s 114us/step - loss: 0.1735 - acc: 0.9405 - val_loss: 3.6737 - val_acc: 0.5098\n",
      "Epoch 62/100\n",
      "50000/50000 [==============================] - 6s 117us/step - loss: 0.1381 - acc: 0.9521 - val_loss: 3.6977 - val_acc: 0.5076\n",
      "Epoch 63/100\n",
      "50000/50000 [==============================] - 6s 113us/step - loss: 0.1310 - acc: 0.9565 - val_loss: 3.8238 - val_acc: 0.5032\n",
      "Epoch 64/100\n",
      "50000/50000 [==============================] - 6s 115us/step - loss: 0.1389 - acc: 0.9520 - val_loss: 3.7585 - val_acc: 0.5061\n",
      "Epoch 65/100\n",
      "50000/50000 [==============================] - 6s 114us/step - loss: 0.1355 - acc: 0.9540 - val_loss: 3.8141 - val_acc: 0.5076\n",
      "Epoch 66/100\n",
      "50000/50000 [==============================] - 6s 114us/step - loss: 0.1212 - acc: 0.9581 - val_loss: 3.8441 - val_acc: 0.5137\n",
      "Epoch 67/100\n",
      "50000/50000 [==============================] - 6s 116us/step - loss: 0.1378 - acc: 0.9530 - val_loss: 3.8484 - val_acc: 0.5018\n",
      "Epoch 68/100\n",
      "50000/50000 [==============================] - 6s 114us/step - loss: 0.1556 - acc: 0.9482 - val_loss: 3.8558 - val_acc: 0.5057\n",
      "Epoch 69/100\n",
      "50000/50000 [==============================] - 6s 113us/step - loss: 0.1202 - acc: 0.9601 - val_loss: 3.8572 - val_acc: 0.5105\n",
      "Epoch 70/100\n",
      "50000/50000 [==============================] - 6s 115us/step - loss: 0.0936 - acc: 0.9689 - val_loss: 4.0104 - val_acc: 0.5065\n",
      "Epoch 71/100\n",
      "50000/50000 [==============================] - 6s 114us/step - loss: 0.1327 - acc: 0.9557 - val_loss: 3.9404 - val_acc: 0.5083\n",
      "Epoch 72/100\n",
      "50000/50000 [==============================] - 6s 114us/step - loss: 0.1254 - acc: 0.9578 - val_loss: 3.9585 - val_acc: 0.5071\n",
      "Epoch 73/100\n",
      "50000/50000 [==============================] - 6s 116us/step - loss: 0.1201 - acc: 0.9593 - val_loss: 4.0358 - val_acc: 0.5116\n",
      "Epoch 74/100\n",
      "50000/50000 [==============================] - 6s 112us/step - loss: 0.1463 - acc: 0.9503 - val_loss: 3.8940 - val_acc: 0.5027\n",
      "Epoch 75/100\n",
      "50000/50000 [==============================] - 6s 114us/step - loss: 0.1120 - acc: 0.9610 - val_loss: 3.9298 - val_acc: 0.5082\n",
      "Epoch 76/100\n",
      "50000/50000 [==============================] - 6s 116us/step - loss: 0.1131 - acc: 0.9620 - val_loss: 3.9725 - val_acc: 0.5085\n",
      "Epoch 77/100\n",
      "50000/50000 [==============================] - 6s 114us/step - loss: 0.1080 - acc: 0.9646 - val_loss: 4.0386 - val_acc: 0.5033\n",
      "Epoch 78/100\n",
      "50000/50000 [==============================] - 6s 115us/step - loss: 0.1200 - acc: 0.9600 - val_loss: 4.1060 - val_acc: 0.5001\n",
      "Epoch 79/100\n",
      "50000/50000 [==============================] - 6s 115us/step - loss: 0.1344 - acc: 0.9543 - val_loss: 4.0533 - val_acc: 0.5013\n",
      "Epoch 80/100\n",
      "50000/50000 [==============================] - 6s 114us/step - loss: 0.0943 - acc: 0.9675 - val_loss: 4.1518 - val_acc: 0.5013\n",
      "Epoch 81/100\n",
      "50000/50000 [==============================] - 6s 115us/step - loss: 0.0915 - acc: 0.9702 - val_loss: 4.1505 - val_acc: 0.5064\n",
      "Epoch 82/100\n",
      "50000/50000 [==============================] - 6s 114us/step - loss: 0.1382 - acc: 0.9540 - val_loss: 4.1150 - val_acc: 0.4989\n",
      "Epoch 83/100\n",
      "50000/50000 [==============================] - 6s 114us/step - loss: 0.1176 - acc: 0.9607 - val_loss: 4.0916 - val_acc: 0.5001\n",
      "Epoch 84/100\n",
      "50000/50000 [==============================] - 6s 116us/step - loss: 0.0977 - acc: 0.9671 - val_loss: 4.1378 - val_acc: 0.5113\n",
      "Epoch 85/100\n",
      "50000/50000 [==============================] - 6s 116us/step - loss: 0.0845 - acc: 0.9708 - val_loss: 4.2115 - val_acc: 0.5111\n",
      "Epoch 86/100\n",
      "50000/50000 [==============================] - 6s 113us/step - loss: 0.0963 - acc: 0.9684 - val_loss: 4.2394 - val_acc: 0.5082\n",
      "Epoch 87/100\n",
      "50000/50000 [==============================] - 6s 116us/step - loss: 0.1399 - acc: 0.9549 - val_loss: 4.0733 - val_acc: 0.5018\n",
      "Epoch 88/100\n",
      "50000/50000 [==============================] - 6s 113us/step - loss: 0.0992 - acc: 0.9668 - val_loss: 4.0509 - val_acc: 0.5095\n",
      "Epoch 89/100\n",
      "50000/50000 [==============================] - 6s 113us/step - loss: 0.0744 - acc: 0.9753 - val_loss: 4.2177 - val_acc: 0.5115\n",
      "Epoch 90/100\n",
      "50000/50000 [==============================] - 6s 116us/step - loss: 0.1035 - acc: 0.9667 - val_loss: 4.2606 - val_acc: 0.5079\n",
      "Epoch 91/100\n",
      "50000/50000 [==============================] - 6s 115us/step - loss: 0.1141 - acc: 0.9620 - val_loss: 4.2448 - val_acc: 0.5007\n",
      "Epoch 92/100\n",
      "50000/50000 [==============================] - 6s 118us/step - loss: 0.1026 - acc: 0.9659 - val_loss: 4.2430 - val_acc: 0.5085\n",
      "Epoch 93/100\n",
      "50000/50000 [==============================] - 6s 113us/step - loss: 0.0962 - acc: 0.9678 - val_loss: 4.2237 - val_acc: 0.5009\n",
      "Epoch 94/100\n",
      "50000/50000 [==============================] - 6s 114us/step - loss: 0.1038 - acc: 0.9649 - val_loss: 4.2829 - val_acc: 0.5006\n",
      "Epoch 95/100\n",
      "50000/50000 [==============================] - 6s 115us/step - loss: 0.0895 - acc: 0.9701 - val_loss: 4.3168 - val_acc: 0.5088\n",
      "Epoch 96/100\n",
      "50000/50000 [==============================] - 6s 113us/step - loss: 0.1130 - acc: 0.9638 - val_loss: 4.1876 - val_acc: 0.5052\n",
      "Epoch 97/100\n",
      "50000/50000 [==============================] - 6s 113us/step - loss: 0.0874 - acc: 0.9703 - val_loss: 4.3761 - val_acc: 0.4982\n",
      "Epoch 98/100\n",
      "50000/50000 [==============================] - 6s 116us/step - loss: 0.0760 - acc: 0.9754 - val_loss: 4.3141 - val_acc: 0.5070\n",
      "Epoch 99/100\n",
      "50000/50000 [==============================] - 6s 112us/step - loss: 0.0792 - acc: 0.9738 - val_loss: 4.4332 - val_acc: 0.5049\n",
      "Epoch 100/100\n",
      "50000/50000 [==============================] - 6s 114us/step - loss: 0.1557 - acc: 0.9509 - val_loss: 4.1747 - val_acc: 0.5018\n"
     ]
    },
    {
     "data": {
      "text/plain": [
       "<keras.callbacks.History at 0x1c5ef3b0f28>"
      ]
     },
     "execution_count": 12,
     "metadata": {},
     "output_type": "execute_result"
    }
   ],
   "source": [
    "model.fit(x_train, y_train, \n",
    "          epochs=EPOCHS, \n",
    "          batch_size=BATCH_SIZE, \n",
    "          validation_data=(x_test, y_test), \n",
    "          shuffle=True)"
   ]
  },
  {
   "cell_type": "code",
   "execution_count": 14,
   "metadata": {},
   "outputs": [
    {
     "data": {
      "image/png": "[encoded data removed]",
      "text/plain": [
       "<Figure size 432x288 with 1 Axes>"
      ]
     },
     "metadata": {
      "needs_background": "light"
     },
     "output_type": "display_data"
    },
    {
     "data": {
      "image/png": "[encoded data removed]",
      "text/plain": [
       "<Figure size 432x288 with 1 Axes>"
      ]
     },
     "metadata": {
      "needs_background": "light"
     },
     "output_type": "display_data"
    }
   ],
   "source": [
    "import matplotlib.pyplot as plt\n",
    "\n",
    "\n",
    "train_loss = model.history.history[\"loss\"]\n",
    "valid_loss = model.history.history[\"val_loss\"]\n",
    "\n",
    "train_acc = model.history.history[\"acc\"]\n",
    "valid_acc = model.history.history[\"val_acc\"]\n",
    "\n",
    "plt.plot(range(len(train_loss)), train_loss, label=\"train loss\")\n",
    "plt.plot(range(len(valid_loss)), valid_loss, label=\"valid loss\")\n",
    "plt.legend()\n",
    "plt.title(\"Loss\")\n",
    "plt.show()\n",
    "\n",
    "plt.plot(range(len(train_acc)), train_acc, label=\"train accuracy\")\n",
    "plt.plot(range(len(valid_acc)), valid_acc, label=\"valid accuracy\")\n",
    "plt.legend()\n",
    "plt.title(\"Accuracy\")\n",
    "plt.show()"
   ]
  },
  {
   "cell_type": "code",
   "execution_count": null,
   "metadata": {},
   "outputs": [],
   "source": []
  }
 ],
 "metadata": {
  "kernelspec": {
   "display_name": "Python 3",
   "language": "python",
   "name": "python3"
  },
  "language_info": {
   "codemirror_mode": {
    "name": "ipython",
    "version": 3
   },
   "file_extension": ".py",
   "mimetype": "text/x-python",
   "name": "python",
   "nbconvert_exporter": "python",
   "pygments_lexer": "ipython3",
   "version": "3.6.6"
  }
 },
 "nbformat": 4,
 "nbformat_minor": 2
}

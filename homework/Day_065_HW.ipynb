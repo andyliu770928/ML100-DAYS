{
 "cells": [
  {
   "cell_type": "markdown",
   "metadata": {},
   "source": [
    "# 作業:\n",
    "嘗試調整參數:  \n",
    "sg:sg=1表示採用skip-gram,sg=0 表示採用cbow  \n",
    "window:能往左往右看幾個字的意思 "
   ]
  },
  {
   "cell_type": "code",
   "execution_count": 6,
   "metadata": {},
   "outputs": [],
   "source": [
    "import gensim, logging\n",
    "from gensim.models import word2vec"
   ]
  },
  {
   "cell_type": "code",
   "execution_count": 7,
   "metadata": {},
   "outputs": [
    {
     "name": "stderr",
     "output_type": "stream",
     "text": [
      "2019-03-10 20:50:55,011 : INFO : collecting all words and their counts\n",
      "2019-03-10 20:50:55,012 : INFO : PROGRESS: at sentence #0, processed 0 words, keeping 0 word types\n",
      "2019-03-10 20:50:55,013 : INFO : collected 3 word types from a corpus of 4 raw words and 2 sentences\n",
      "2019-03-10 20:50:55,013 : INFO : Loading a fresh vocabulary\n",
      "2019-03-10 20:50:55,014 : INFO : min_count=1 retains 3 unique words (100% of original 3, drops 0)\n",
      "2019-03-10 20:50:55,014 : INFO : min_count=1 leaves 4 word corpus (100% of original 4, drops 0)\n",
      "2019-03-10 20:50:55,015 : INFO : deleting the raw counts dictionary of 3 items\n",
      "2019-03-10 20:50:55,015 : INFO : sample=0.001 downsamples 3 most-common words\n",
      "2019-03-10 20:50:55,016 : INFO : downsampling leaves estimated 0 word corpus (5.7% of prior 4)\n",
      "2019-03-10 20:50:55,016 : INFO : estimated required memory for 3 words and 256 dimensions: 7644 bytes\n",
      "2019-03-10 20:50:55,017 : INFO : resetting layer weights\n",
      "2019-03-10 20:50:55,017 : INFO : training model with 4 workers on 3 vocabulary and 256 features, using sg=1 hs=0 sample=0.001 negative=5 window=5\n",
      "2019-03-10 20:50:55,048 : INFO : worker thread finished; awaiting finish of 3 more threads\n",
      "2019-03-10 20:50:55,049 : INFO : worker thread finished; awaiting finish of 2 more threads\n",
      "2019-03-10 20:50:55,050 : INFO : worker thread finished; awaiting finish of 1 more threads\n",
      "2019-03-10 20:50:55,050 : INFO : worker thread finished; awaiting finish of 0 more threads\n",
      "2019-03-10 20:50:55,051 : INFO : EPOCH - 1 : training on 4 raw words (0 effective words) took 0.0s, 0 effective words/s\n",
      "2019-03-10 20:50:55,067 : INFO : worker thread finished; awaiting finish of 3 more threads\n",
      "2019-03-10 20:50:55,068 : INFO : worker thread finished; awaiting finish of 2 more threads\n",
      "2019-03-10 20:50:55,068 : INFO : worker thread finished; awaiting finish of 1 more threads\n",
      "2019-03-10 20:50:55,069 : INFO : worker thread finished; awaiting finish of 0 more threads\n",
      "2019-03-10 20:50:55,069 : INFO : EPOCH - 2 : training on 4 raw words (0 effective words) took 0.0s, 0 effective words/s\n",
      "2019-03-10 20:50:55,083 : INFO : worker thread finished; awaiting finish of 3 more threads\n",
      "2019-03-10 20:50:55,084 : INFO : worker thread finished; awaiting finish of 2 more threads\n",
      "2019-03-10 20:50:55,084 : INFO : worker thread finished; awaiting finish of 1 more threads\n",
      "2019-03-10 20:50:55,085 : INFO : worker thread finished; awaiting finish of 0 more threads\n",
      "2019-03-10 20:50:55,085 : INFO : EPOCH - 3 : training on 4 raw words (1 effective words) took 0.0s, 344 effective words/s\n",
      "2019-03-10 20:50:55,098 : INFO : worker thread finished; awaiting finish of 3 more threads\n",
      "2019-03-10 20:50:55,099 : INFO : worker thread finished; awaiting finish of 2 more threads\n",
      "2019-03-10 20:50:55,099 : INFO : worker thread finished; awaiting finish of 1 more threads\n",
      "2019-03-10 20:50:55,100 : INFO : worker thread finished; awaiting finish of 0 more threads\n",
      "2019-03-10 20:50:55,100 : INFO : EPOCH - 4 : training on 4 raw words (0 effective words) took 0.0s, 0 effective words/s\n",
      "2019-03-10 20:50:55,113 : INFO : worker thread finished; awaiting finish of 3 more threads\n",
      "2019-03-10 20:50:55,114 : INFO : worker thread finished; awaiting finish of 2 more threads\n",
      "2019-03-10 20:50:55,114 : INFO : worker thread finished; awaiting finish of 1 more threads\n",
      "2019-03-10 20:50:55,115 : INFO : worker thread finished; awaiting finish of 0 more threads\n",
      "2019-03-10 20:50:55,115 : INFO : EPOCH - 5 : training on 4 raw words (0 effective words) took 0.0s, 0 effective words/s\n",
      "2019-03-10 20:50:55,116 : INFO : training on a 20 raw words (1 effective words) took 0.1s, 10 effective words/s\n",
      "2019-03-10 20:50:55,117 : WARNING : under 10 jobs per worker: consider setting a smaller `batch_words' for smoother alpha decay\n"
     ]
    }
   ],
   "source": [
    "import gensim, logging  \n",
    "logging.basicConfig(format='%(asctime)s : %(levelname)s : %(message)s', level=logging.INFO)  \n",
    "  \n",
    "sentences = [['I am a hero', 'sentence'], ['She is a teacher', 'sentence']]  \n",
    "# train word2vec on the two sentences  \n",
    "model = word2vec.Word2Vec(sentences, size=256, min_count=1, window=5, workers=4, sg=1)  \n",
    "\n",
    "# sg=0 表示COBW, sg=1 表示skip-gram"
   ]
  },
  {
   "cell_type": "code",
   "execution_count": 8,
   "metadata": {},
   "outputs": [
    {
     "name": "stdout",
     "output_type": "stream",
     "text": [
      "Word2Vec(vocab=3, size=256, alpha=0.025)\n"
     ]
    }
   ],
   "source": [
    "print(model)"
   ]
  },
  {
   "cell_type": "code",
   "execution_count": 9,
   "metadata": {},
   "outputs": [
    {
     "name": "stderr",
     "output_type": "stream",
     "text": [
      "C:\\Users\\andyl\\Anaconda3\\lib\\site-packages\\ipykernel_launcher.py:1: DeprecationWarning: Call to deprecated `similarity` (Method will be removed in 4.0.0, use self.wv.similarity() instead).\n",
      "  \"\"\"Entry point for launching an IPython kernel.\n"
     ]
    },
    {
     "data": {
      "text/plain": [
       "0.05454240429260292"
      ]
     },
     "execution_count": 9,
     "metadata": {},
     "output_type": "execute_result"
    }
   ],
   "source": [
    "model.similarity('I am a hero','She is a teacher')"
   ]
  },
  {
   "cell_type": "code",
   "execution_count": 10,
   "metadata": {},
   "outputs": [
    {
     "name": "stderr",
     "output_type": "stream",
     "text": [
      "2019-03-10 20:50:56,295 : INFO : saving Word2Vec object under mymodel, separately None\n",
      "2019-03-10 20:50:56,296 : INFO : not storing attribute vectors_norm\n",
      "2019-03-10 20:50:56,297 : INFO : not storing attribute cum_table\n",
      "2019-03-10 20:50:56,298 : INFO : saved mymodel\n",
      "2019-03-10 20:50:56,300 : INFO : loading Word2Vec object from mymodel\n",
      "2019-03-10 20:50:56,301 : INFO : loading wv recursively from mymodel.wv.* with mmap=None\n",
      "2019-03-10 20:50:56,301 : INFO : setting ignored attribute vectors_norm to None\n",
      "2019-03-10 20:50:56,302 : INFO : loading vocabulary recursively from mymodel.vocabulary.* with mmap=None\n",
      "2019-03-10 20:50:56,302 : INFO : loading trainables recursively from mymodel.trainables.* with mmap=None\n",
      "2019-03-10 20:50:56,303 : INFO : setting ignored attribute cum_table to None\n",
      "2019-03-10 20:50:56,303 : INFO : loaded mymodel\n"
     ]
    }
   ],
   "source": [
    "model.save('mymodel')  \n",
    "new_model = gensim.models.Word2Vec.load('mymodel')  "
   ]
  },
  {
   "cell_type": "code",
   "execution_count": null,
   "metadata": {},
   "outputs": [],
   "source": []
  },
  {
   "cell_type": "code",
   "execution_count": null,
   "metadata": {},
   "outputs": [],
   "source": []
  }
 ],
 "metadata": {
  "kernelspec": {
   "display_name": "Python 3",
   "language": "python",
   "name": "python3"
  },
  "language_info": {
   "codemirror_mode": {
    "name": "ipython",
    "version": 3
   },
   "file_extension": ".py",
   "mimetype": "text/x-python",
   "name": "python",
   "nbconvert_exporter": "python",
   "pygments_lexer": "ipython3",
   "version": "3.7.0"
  }
 },
 "nbformat": 4,
 "nbformat_minor": 2
}

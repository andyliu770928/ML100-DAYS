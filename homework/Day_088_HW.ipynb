{
 "cells": [
  {
   "cell_type": "markdown",
   "metadata": {},
   "source": [
    "## Work\n",
    "1. 請嘗試寫一個 callback 用來記錄各類別在訓練過程中，對驗證集的 True Positive 與 True Negative"
   ]
  },
  {
   "cell_type": "code",
   "execution_count": 1,
   "metadata": {},
   "outputs": [
    {
     "name": "stderr",
     "output_type": "stream",
     "text": [
      "Using TensorFlow backend.\n"
     ]
    }
   ],
   "source": [
    "import os\n",
    "import keras\n",
    "\n",
    "# Disable GPU\n",
    "# os.environ[\"CUDA_VISIBLE_DEVICES\"] = \"\""
   ]
  },
  {
   "cell_type": "code",
   "execution_count": 2,
   "metadata": {},
   "outputs": [],
   "source": [
    "import tensorflow as tf\n",
    "gpu_options = tf.GPUOptions(per_process_gpu_memory_fraction=0.333) \n",
    "sess = tf.Session(config=tf.ConfigProto(gpu_options=gpu_options))"
   ]
  },
  {
   "cell_type": "code",
   "execution_count": 3,
   "metadata": {},
   "outputs": [],
   "source": [
    "train, test = keras.datasets.cifar10.load_data()"
   ]
  },
  {
   "cell_type": "code",
   "execution_count": 4,
   "metadata": {},
   "outputs": [],
   "source": [
    "## 資料前處理\n",
    "def preproc_x(x, flatten=True):\n",
    "    x = x / 255.\n",
    "    if flatten:\n",
    "        x = x.reshape((len(x), -1))\n",
    "    return x\n",
    "\n",
    "def preproc_y(y, num_classes=10):\n",
    "    if y.shape[-1] == 1:\n",
    "        y = keras.utils.to_categorical(y, num_classes)\n",
    "    return y    "
   ]
  },
  {
   "cell_type": "code",
   "execution_count": 5,
   "metadata": {},
   "outputs": [],
   "source": [
    "x_train, y_train = train\n",
    "x_test, y_test = test\n",
    "\n",
    "# Preproc the inputs\n",
    "x_train = preproc_x(x_train)\n",
    "x_test = preproc_x(x_test)\n",
    "\n",
    "# Preprc the outputs\n",
    "y_train = preproc_y(y_train)\n",
    "y_test = preproc_y(y_test)"
   ]
  },
  {
   "cell_type": "code",
   "execution_count": 6,
   "metadata": {},
   "outputs": [],
   "source": [
    "from keras.layers import BatchNormalization\n",
    "def build_mlp(input_shape, output_units=10, num_neurons=[512, 256, 128]):\n",
    "    input_layer = keras.layers.Input(input_shape)\n",
    "    for i, n_units in enumerate(num_neurons):\n",
    "        if i == 0:\n",
    "            x = keras.layers.Dense(units=n_units, \n",
    "                                   activation=\"relu\", \n",
    "                                   name=\"hidden_layer\"+str(i+1))(input_layer)\n",
    "            x = BatchNormalization()(x)\n",
    "        else:\n",
    "            x = keras.layers.Dense(units=n_units, \n",
    "                                   activation=\"relu\", \n",
    "                                   name=\"hidden_layer\"+str(i+1))(x)\n",
    "            x = BatchNormalization()(x)\n",
    "    \n",
    "    out = keras.layers.Dense(units=output_units, activation=\"softmax\", name=\"output\")(x)\n",
    "    \n",
    "    model = keras.models.Model(inputs=[input_layer], outputs=[out])\n",
    "    return model"
   ]
  },
  {
   "cell_type": "code",
   "execution_count": 7,
   "metadata": {},
   "outputs": [],
   "source": [
    "## 超參數設定\n",
    "LEARNING_RATE = 1e-3\n",
    "EPOCHS = 25\n",
    "BATCH_SIZE = 1024\n",
    "MOMENTUM = 0.95"
   ]
  },
  {
   "cell_type": "code",
   "execution_count": 8,
   "metadata": {},
   "outputs": [],
   "source": [
    "# 載入 Callbacks\n",
    "from keras.callbacks import Callback\n",
    "from sklearn.metrics import confusion_matrix\n",
    "\n",
    "# Record_fp_tp\n",
    "class Record_tp_tn(Callback):\n",
    "    def on_train_begin(self, epoch, logs = {}):\n",
    "        logs = logs or {}\n",
    "        record_items = [\"val_auc\", \"val_f1sc\", \"val_fp\", \"val_fn\", \"val_tp\", \"val_tn\"]\n",
    "        for i in record_items:\n",
    "            if i not in self.params['metrics']:\n",
    "                self.params['metrics'].append(i)\n",
    "    \n",
    "    def on_epoch_end(self, epoch, logs = {}, thres=0.5):\n",
    "        logs = logs or {}\n",
    "        y_true = self.validation_data[1].argmax(axis = 1)\n",
    "        y_pred = self.model.predict(self.validation_data[0])\n",
    "        y_pred = (y_pred[:, 1] >= thres) * 1\n",
    "        \n",
    "        CM=confusion_matrix(y_true, y_pred)\n",
    "        logs['val_tp'] =CM[0][0]\n",
    "        logs['val_tn'] =CM[1][1]\n",
    "        \n",
    "rec_tptn = Record_tp_tn()"
   ]
  },
  {
   "cell_type": "code",
   "execution_count": 10,
   "metadata": {
    "scrolled": true
   },
   "outputs": [
    {
     "name": "stdout",
     "output_type": "stream",
     "text": [
      "_________________________________________________________________\n",
      "Layer (type)                 Output Shape              Param #   \n",
      "=================================================================\n",
      "input_2 (InputLayer)         (None, 3072)              0         \n",
      "_________________________________________________________________\n",
      "hidden_layer1 (Dense)        (None, 512)               1573376   \n",
      "_________________________________________________________________\n",
      "batch_normalization_4 (Batch (None, 512)               2048      \n",
      "_________________________________________________________________\n",
      "hidden_layer2 (Dense)        (None, 256)               131328    \n",
      "_________________________________________________________________\n",
      "batch_normalization_5 (Batch (None, 256)               1024      \n",
      "_________________________________________________________________\n",
      "hidden_layer3 (Dense)        (None, 128)               32896     \n",
      "_________________________________________________________________\n",
      "batch_normalization_6 (Batch (None, 128)               512       \n",
      "_________________________________________________________________\n",
      "output (Dense)               (None, 10)                1290      \n",
      "=================================================================\n",
      "Total params: 1,742,474\n",
      "Trainable params: 1,740,682\n",
      "Non-trainable params: 1,792\n",
      "_________________________________________________________________\n",
      "Train on 50000 samples, validate on 10000 samples\n",
      "Epoch 1/25\n",
      "50000/50000 [==============================] - 5s 91us/step - loss: 2.1875 - acc: 0.2708 - val_loss: 2.0650 - val_acc: 0.3112\n",
      "Epoch 2/25\n",
      "50000/50000 [==============================] - 3s 64us/step - loss: 1.7419 - acc: 0.3898 - val_loss: 1.8381 - val_acc: 0.3652\n",
      "Epoch 3/25\n",
      "50000/50000 [==============================] - 3s 64us/step - loss: 1.6178 - acc: 0.4325 - val_loss: 1.6835 - val_acc: 0.4144\n",
      "Epoch 4/25\n",
      "50000/50000 [==============================] - 3s 63us/step - loss: 1.5445 - acc: 0.4583 - val_loss: 1.6209 - val_acc: 0.4339\n",
      "Epoch 5/25\n",
      "50000/50000 [==============================] - 3s 64us/step - loss: 1.4889 - acc: 0.4792 - val_loss: 1.5878 - val_acc: 0.4459\n",
      "Epoch 6/25\n",
      "50000/50000 [==============================] - 3s 64us/step - loss: 1.4428 - acc: 0.4975 - val_loss: 1.5565 - val_acc: 0.4545\n",
      "Epoch 7/25\n",
      "50000/50000 [==============================] - 3s 65us/step - loss: 1.4056 - acc: 0.5094 - val_loss: 1.5455 - val_acc: 0.4587\n",
      "Epoch 8/25\n",
      "50000/50000 [==============================] - 3s 64us/step - loss: 1.3709 - acc: 0.5229 - val_loss: 1.5223 - val_acc: 0.4650\n",
      "Epoch 9/25\n",
      "50000/50000 [==============================] - 3s 64us/step - loss: 1.3374 - acc: 0.5357 - val_loss: 1.5122 - val_acc: 0.4714\n",
      "Epoch 10/25\n",
      "50000/50000 [==============================] - 3s 64us/step - loss: 1.3068 - acc: 0.5470 - val_loss: 1.4957 - val_acc: 0.4778\n",
      "Epoch 11/25\n",
      "50000/50000 [==============================] - 3s 64us/step - loss: 1.2795 - acc: 0.5575 - val_loss: 1.4814 - val_acc: 0.4830\n",
      "Epoch 12/25\n",
      "50000/50000 [==============================] - 3s 64us/step - loss: 1.2531 - acc: 0.5673 - val_loss: 1.4843 - val_acc: 0.4863\n",
      "Epoch 13/25\n",
      "50000/50000 [==============================] - 3s 64us/step - loss: 1.2272 - acc: 0.5763 - val_loss: 1.4640 - val_acc: 0.4910\n",
      "Epoch 14/25\n",
      "50000/50000 [==============================] - 3s 64us/step - loss: 1.2015 - acc: 0.5860 - val_loss: 1.4679 - val_acc: 0.4858\n",
      "Epoch 15/25\n",
      "50000/50000 [==============================] - 3s 64us/step - loss: 1.1780 - acc: 0.5959 - val_loss: 1.4580 - val_acc: 0.4895\n",
      "Epoch 16/25\n",
      "50000/50000 [==============================] - 3s 64us/step - loss: 1.1538 - acc: 0.6046 - val_loss: 1.4616 - val_acc: 0.4898\n",
      "Epoch 17/25\n",
      "50000/50000 [==============================] - 3s 64us/step - loss: 1.1313 - acc: 0.6129 - val_loss: 1.4675 - val_acc: 0.4932\n",
      "Epoch 18/25\n",
      "50000/50000 [==============================] - 3s 64us/step - loss: 1.1096 - acc: 0.6197 - val_loss: 1.4453 - val_acc: 0.4991\n",
      "Epoch 19/25\n",
      "50000/50000 [==============================] - 3s 64us/step - loss: 1.0881 - acc: 0.6287 - val_loss: 1.4521 - val_acc: 0.4949\n",
      "Epoch 20/25\n",
      "50000/50000 [==============================] - 3s 64us/step - loss: 1.0649 - acc: 0.6381 - val_loss: 1.4525 - val_acc: 0.4960\n",
      "Epoch 21/25\n",
      "50000/50000 [==============================] - 3s 64us/step - loss: 1.0448 - acc: 0.6456 - val_loss: 1.4558 - val_acc: 0.4927\n",
      "Epoch 22/25\n",
      "50000/50000 [==============================] - 3s 64us/step - loss: 1.0234 - acc: 0.6520 - val_loss: 1.4555 - val_acc: 0.4972\n",
      "Epoch 23/25\n",
      "50000/50000 [==============================] - 3s 64us/step - loss: 1.0021 - acc: 0.6604 - val_loss: 1.4635 - val_acc: 0.4926\n",
      "Epoch 24/25\n",
      "50000/50000 [==============================] - 3s 64us/step - loss: 0.9814 - acc: 0.6686 - val_loss: 1.4599 - val_acc: 0.4987\n",
      "Epoch 25/25\n",
      "50000/50000 [==============================] - 3s 64us/step - loss: 0.9620 - acc: 0.6774 - val_loss: 1.4585 - val_acc: 0.4990\n"
     ]
    }
   ],
   "source": [
    "model = build_mlp(input_shape=x_train.shape[1:])\n",
    "model.summary()\n",
    "optimizer = keras.optimizers.SGD(lr=LEARNING_RATE, nesterov=True, momentum=MOMENTUM)\n",
    "model.compile(loss=\"categorical_crossentropy\", metrics=[\"accuracy\"], optimizer=optimizer)\n",
    "\n",
    "model.fit(x_train, y_train, \n",
    "          epochs=EPOCHS, \n",
    "          batch_size=BATCH_SIZE, \n",
    "          validation_data=(x_test, y_test), \n",
    "          shuffle=True,\n",
    "          callbacks=[rec_tptn]\n",
    "         )\n",
    "\n",
    "# Collect results\n",
    "train_loss = model.history.history[\"loss\"]\n",
    "valid_loss = model.history.history[\"val_loss\"]\n",
    "train_acc = model.history.history[\"acc\"]\n",
    "valid_acc = model.history.history[\"val_acc\"]\n",
    "\n",
    "valid_tp = model.history.history[\"val_tp\"]\n",
    "valid_tn = model.history.history[\"val_tn\"]"
   ]
  },
  {
   "cell_type": "code",
   "execution_count": 11,
   "metadata": {},
   "outputs": [
    {
     "data": {
      "image/png": "[encoded data removed]",
      "text/plain": [
       "<Figure size 432x288 with 1 Axes>"
      ]
     },
     "metadata": {
      "needs_background": "light"
     },
     "output_type": "display_data"
    },
    {
     "data": {
      "image/png": "[encoded data removed]",
      "text/plain": [
       "<Figure size 432x288 with 1 Axes>"
      ]
     },
     "metadata": {
      "needs_background": "light"
     },
     "output_type": "display_data"
    },
    {
     "data": {
      "image/png": "[encoded data removed]",
      "text/plain": [
       "<Figure size 432x288 with 1 Axes>"
      ]
     },
     "metadata": {
      "needs_background": "light"
     },
     "output_type": "display_data"
    }
   ],
   "source": [
    "import matplotlib.pyplot as plt\n",
    "%matplotlib inline\n",
    "\n",
    "plt.plot(range(len(train_loss)), train_loss, label=\"train loss\")\n",
    "plt.plot(range(len(valid_loss)), valid_loss, label=\"valid loss\")\n",
    "plt.legend()\n",
    "plt.title(\"Loss\")\n",
    "plt.show()\n",
    "\n",
    "plt.plot(range(len(train_acc)), train_acc, label=\"train accuracy\")\n",
    "plt.plot(range(len(valid_acc)), valid_acc, label=\"valid accuracy\")\n",
    "plt.legend()\n",
    "plt.title(\"Accuracy\")\n",
    "plt.show()\n",
    "\n",
    "plt.plot(range(len(valid_tp)), valid_tp, label=\"valid tp\", color=\"navy\")\n",
    "plt.plot(range(len(valid_tn)), valid_tn, label=\"valid tn\", color=\"red\")\n",
    "plt.legend()\n",
    "plt.title(\"True positives and True Negatives\")\n",
    "plt.show()\n"
   ]
  },
  {
   "cell_type": "code",
   "execution_count": null,
   "metadata": {},
   "outputs": [],
   "source": []
  }
 ],
 "metadata": {
  "kernelspec": {
   "display_name": "tf env",
   "language": "python",
   "name": "tf_venv"
  },
  "language_info": {
   "codemirror_mode": {
    "name": "ipython",
    "version": 3
   },
   "file_extension": ".py",
   "mimetype": "text/x-python",
   "name": "python",
   "nbconvert_exporter": "python",
   "pygments_lexer": "ipython3",
   "version": "3.6.5"
  }
 },
 "nbformat": 4,
 "nbformat_minor": 2
}
